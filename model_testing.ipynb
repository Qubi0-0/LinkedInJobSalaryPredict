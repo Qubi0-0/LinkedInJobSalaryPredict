{
 "cells": [
  {
   "cell_type": "markdown",
   "metadata": {},
   "source": [
    "# Model Testing\n",
    "\n",
    "Here we will test different models to see which one performs best on our data. We will test the following models:\n",
    "- K-Nearest Neighbors\n",
    "\n",
    "\n",
    "We will work on already prepared dataset."
   ]
  },
  {
   "cell_type": "code",
   "execution_count": 11,
   "metadata": {},
   "outputs": [
    {
     "name": "stdout",
     "output_type": "stream",
     "text": [
      "<class 'pandas.core.frame.DataFrame'>\n",
      "Index: 13222 entries, 0 to 13221\n",
      "Data columns (total 8 columns):\n",
      " #   Column         Non-Null Count  Dtype  \n",
      "---  ------         --------------  -----  \n",
      " 0   Flw_Cnt        13222 non-null  int64  \n",
      " 1   Is_Supvsr      13222 non-null  bool   \n",
      " 2   med_sal        13222 non-null  float64\n",
      " 3   st_code        13222 non-null  object \n",
      " 4   is_remote      13222 non-null  int64  \n",
      " 5   views          13222 non-null  int64  \n",
      " 6   xp_lvl         13222 non-null  object \n",
      " 7   mean_year_sal  13222 non-null  float64\n",
      "dtypes: bool(1), float64(2), int64(3), object(2)\n",
      "memory usage: 839.3+ KB\n"
     ]
    }
   ],
   "source": [
    "import pandas as pd\n",
    "import numpy as np\n",
    "import data_preprocessing as dp\n",
    "\n",
    "jobs_df = pd.read_csv('data/cleared/linkedin_data.csv')\n",
    "\n",
    "# Encoding categorical data - job titles\n",
    "jobs_df = dp.encode_job_ttls(jobs_df)\n",
    "jobs_df = jobs_df.drop(['Job_Desc', 'Job_Ttl', 'max_sal', 'min_sal', 'Co_Nm', 'py_prd', 'loc', 'wrk_typ'], axis=1)\n",
    "jobs_df.info()"
   ]
  },
  {
   "cell_type": "code",
   "execution_count": 12,
   "metadata": {},
   "outputs": [
    {
     "name": "stdout",
     "output_type": "stream",
     "text": [
      "Mean squared error:  2193137615.069355\n",
      "RMSE scores:  [47057.28078767 46135.23308833 47409.74622193 47645.44955165\n",
      " 47745.13521829]\n",
      "Mean RMSE:  47198.56897357495\n"
     ]
    }
   ],
   "source": [
    "from sklearn.neighbors import KNeighborsRegressor\n",
    "from sklearn.metrics import mean_squared_error\n",
    "from sklearn.preprocessing import StandardScaler\n",
    "from sklearn.model_selection import cross_val_score\n",
    "from sklearn.model_selection import train_test_split\n",
    "\n",
    "# Calculate mean 'med_sal' for each 'xp_lvl'\n",
    "mean_sal_by_xp_lvl = jobs_df.groupby('xp_lvl')['med_sal'].mean()\n",
    "\n",
    "# Add a new column 'mean_sal_by_xp_lvl' to the DataFrame\n",
    "jobs_df['mean_sal_by_xp_lvl'] = jobs_df['xp_lvl'].map(mean_sal_by_xp_lvl)\n",
    "\n",
    "# Make a copy of the DataFrame and drop the 'st_code' column\n",
    "jobs_df_copy = jobs_df.copy()\n",
    "jobs_df_copy = jobs_df_copy.drop(['st_code'], axis=1)\n",
    "\n",
    "# Define the target variable 'y' and the feature matrix 'X'\n",
    "y = jobs_df['med_sal'].values\n",
    "X = jobs_df[['Flw_Cnt', 'Is_Supvsr', 'is_remote', 'views', 'mean_sal_by_xp_lvl']].values\n",
    "\n",
    "# Split the data into training and testing sets\n",
    "X_train, X_test, y_train, y_test = train_test_split(X, y, test_size=0.25, random_state=0)\n",
    "\n",
    "\n",
    "# Scale the features\n",
    "scaler = StandardScaler()\n",
    "X_train_scaled = scaler.fit_transform(X_train)\n",
    "X_test_scaled = scaler.transform(X_test)\n",
    "\n",
    "\n",
    "# Create and train a KNN regressor on the scaled data\n",
    "regressor = KNeighborsRegressor(n_neighbors=5, metric='minkowski', p=2)\n",
    "regressor.fit(X_train_scaled, y_train)\n",
    "\n",
    "# Make predictions and print the mean squared error\n",
    "y_pred = regressor.predict(X_test_scaled)\n",
    "print('Mean squared error: ', mean_squared_error(y_test, y_pred))\n",
    "\n",
    "# Perform 5-fold cross-validation\n",
    "scores = cross_val_score(regressor, X_train_scaled, y_train, cv=5, scoring='neg_mean_squared_error')\n",
    "\n",
    "# Convert scores to positive and take the square root (to get the root mean squared error)\n",
    "rmse_scores = np.sqrt(-scores)\n",
    "\n",
    "print('RMSE scores: ', rmse_scores)\n",
    "print('Mean RMSE: ', rmse_scores.mean())"
   ]
  },
  {
   "cell_type": "markdown",
   "metadata": {},
   "source": [
    "The provided Python code is performing a regression task using a K-Nearest Neighbors (KNN) model to predict median salaries based on several job features. The code includes data preprocessing (such as feature scaling and splitting the data into training and testing sets), model training, prediction, and evaluation using Mean Squared Error (MSE) and cross-validation. The results indicate that the model's predictions have a high error rate, suggesting the need for model tuning or a different approach.\n",
    "\n",
    "## Comments on the results\n",
    "\n",
    "The Mean Squared Error (MSE) of 2193137615.069355 and the Root Mean Squared Error (RMSE) scores ranging from around 46135 to 47745 suggest that the model's predictions are not very accurate. The high error rates indicate that the KNN model may need further tuning or a different modeling approach might be more effective.\n"
   ]
  }
 ],
 "metadata": {
  "kernelspec": {
   "display_name": "data",
   "language": "python",
   "name": "python3"
  },
  "language_info": {
   "codemirror_mode": {
    "name": "ipython",
    "version": 3
   },
   "file_extension": ".py",
   "mimetype": "text/x-python",
   "name": "python",
   "nbconvert_exporter": "python",
   "pygments_lexer": "ipython3",
   "version": "3.11.5"
  }
 },
 "nbformat": 4,
 "nbformat_minor": 2
}
