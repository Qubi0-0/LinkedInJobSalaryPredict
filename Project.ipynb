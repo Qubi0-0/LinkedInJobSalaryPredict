{
 "cells": [
  {
   "cell_type": "markdown",
   "metadata": {},
   "source": [
    "# Data Science Fundamentals - Predicting Salary Based on LinkedIn Dataset\n",
    "\n",
    "# 1. Introduction \n",
    "This project is a part of the Data Science Fundamentals course at ISCTE-IUL. The goal of this project is to predict the salary of a LinkedIn user based on the information available on job offers. The dataset used in this project is the LinkedIn dataset, which is available on Kaggle. The dataset is available on Kaggle: [LinkedIn Dataset](https://www.kaggle.com/datasets/adampq/linkedin-jobs-machine-learning-data-set)\n",
    "\n",
    "# 2. Project Structure\n",
    "The project is based on the CRISP-DM methodology. The project structure is as follows:\n",
    "- Business Understanding (Won't be covered in this project)\n",
    "- Data Understanding\n",
    "- Data Preparation\n",
    "- Modeling\n",
    "- Evaluation\n",
    "- Deployment (Won't be covered in this project)\n",
    "\n",
    "# 3. libraries\n",
    "\n",
    "All libraries can be installed using pip. There is a requirements.txt file in the project folder. To install all libraries, run the following command in the project folder: `pip install -r requirements.txt`\n"
   ]
  },
  {
   "cell_type": "markdown",
   "metadata": {},
   "source": [
    "# Data Understanding\n",
    "\n",
    "The understanding of the dataset was done in `Understand&Prepare.ipynb` notebook and all the code and results are presented there. It includes statistics presentation, data visualization and correlation analysis."
   ]
  },
  {
   "cell_type": "markdown",
   "metadata": {},
   "source": [
    "# Data Preparation\n",
    "\n",
    "The data preparation was done in `Understand&Prepare.ipynb` notebook and all the code and results are presented there. It includes data cleaning and feature selection. "
   ]
  },
  {
   "cell_type": "markdown",
   "metadata": {},
   "source": [
    "# Modeling\n",
    "\n",
    "For that purpose we will use the following algorithms:\n",
    "- K Neighbors Regressor\n",
    "- Decision Tree Regressor\n",
    "- Random Forest Regressor\n",
    "- Support Vector Regressor\n",
    "- Gradient Boosting Regressor\n",
    "\n",
    "With the feautres we were left with Sure, the features in your dataset appear to be:\n",
    "\n",
    "1. `Flw_Cnt`\n",
    "2. `Is_Supvsr`\n",
    "3. `is_remote`\n",
    "4. `views`\n",
    "5. `mean_sal_by_st_code`\n",
    "6. `mean_sal_by_xp_lvl` \n",
    "7. `mean_sal_by_wrk_type`\n",
    "8. `NLP - Job_Decscription`\n",
    "\n",
    "All models are Regression models, because we are predicting a continuous variable. We could also use Classification models, but we would have to divide the salary into classes. In this case, we would have to decide how many classes we want to have and what would be the salary range for each class. This would be a very subjective decision and it would be hard to evaluate the results. \n",
    "\n",
    "The modeling was done in `ModelTesting.ipynb` notebook and all the code and results are presented there. It includes data modeling, hyperparameter tuning and model evaluation. Great help was provided by GridSearchCV, which is a part of the sklearn library. It allows to test different hyperparameters and choose the best ones. \n",
    "\n",
    "Without use of NLP, all models were off by 20k-30k dollars. It is a huge error.  "
   ]
  },
  {
   "cell_type": "markdown",
   "metadata": {},
   "source": [
    "# Evaluation\n",
    "\n",
    "The data itself is not very good for predicting the salary. Although the dataset is quite big, its features are not very good for predicting. informations like job title, company name or job description are not very good for predicting the salary. Different features like domain, application status or if company page is listed were not very useful. \n",
    "\n",
    "The idea itself looks very interesting and further research could be done. The dataset could be improved by adding more features. The use of NLP (Natural Language Processing) could be used for other features too. "
   ]
  },
  {
   "cell_type": "markdown",
   "metadata": {},
   "source": [
    "# Work Contribution\n",
    "\n",
    "The work was done by the following team members:\n",
    "* Jakub Zeifert\n",
    "* Jakub Tomczak\n",
    "* Camina Nguyen \n",
    "\n",
    "We worked together on all parts of the project. \n",
    "We had regular meetings to discuss the progress and to make decisions. \n",
    "We all were checking each other's code and results. We all were writing the report.\n",
    "\n"
   ]
  }
 ],
 "metadata": {
  "kernelspec": {
   "display_name": "data",
   "language": "python",
   "name": "python3"
  },
  "language_info": {
   "name": "python",
   "version": "3.11.5"
  }
 },
 "nbformat": 4,
 "nbformat_minor": 2
}
